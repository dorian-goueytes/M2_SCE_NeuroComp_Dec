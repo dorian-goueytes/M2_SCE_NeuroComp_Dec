{
  "nbformat": 4,
  "nbformat_minor": 0,
  "metadata": {
    "colab": {
      "provenance": [],
      "toc_visible": true,
      "mount_file_id": "1rDR_YphgOFoGF6fYeYqvXOMJLnGku3f0",
      "authorship_tag": "ABX9TyM+ikRXrp9zET6FEeET28Qz",
      "include_colab_link": true
    },
    "kernelspec": {
      "name": "python3",
      "display_name": "Python 3"
    },
    "language_info": {
      "name": "python"
    }
  },
  "cells": [
    {
      "cell_type": "markdown",
      "metadata": {
        "id": "view-in-github",
        "colab_type": "text"
      },
      "source": [
        "<a href=\"https://colab.research.google.com/github/dorian-goueytes/M2_SCE_NeuroComp_Dec/blob/main/recurrent_network_wang2002.ipynb\" target=\"_parent\"><img src=\"https://colab.research.google.com/assets/colab-badge.svg\" alt=\"Open In Colab\"/></a>"
      ]
    },
    {
      "cell_type": "markdown",
      "source": [
        "# Hands-on modeling: Python implementation of a decision-making neural network\n",
        "\n",
        "Today we are going to study a concrete implementation of the neural network proposed in Wang, 2002 [1] (see Class 2) and extended in Wong and Wang, 2006 [2].\n",
        "\n",
        "As a reminder this neural network can integrate the information from a cloud of randomly moving dots and decide whether there is a coherent movement in the cloud towards the right or the left.\n",
        "\n",
        "The architecture of the network is as follow:\n",
        "\n",
        "![texte du lien](https://neuronaldynamics-exercises.readthedocs.io/en/latest/_images/DecisionMaking_NetworkStructureAll.png)\n",
        "\n",
        "With the excitatory population corresponding to the attractors seen in Wang, 2002\n",
        "\n",
        "![texte du lien](https://neuronaldynamics-exercises.readthedocs.io/en/latest/_images/DecisionMaking_NetworkStructureDetail.png)\n",
        "\n",
        "\n",
        "This notebook is adapted from the following following resource [3]:\n",
        "\n",
        "[https://neuronaldynamics-exercises.readthedocs.io/en/latest/exercises/perceptual-decision-making.html](https://neuronaldynamics-exercises.readthedocs.io/en/latest/exercises/perceptual-decision-making.html)\n",
        "\n",
        "\n",
        "\n",
        "[1] Wang, X.-J. (2002). Probabilistic Decision Making by Slow Reverberation in Cortical Circuits. Neuron, 36(5), 955–968. https://doi.org/10.1016/S0896-6273(02)01092-9\n",
        "\n",
        "[2] Wong, K.-F., & Wang, X.-J. (2006). A Recurrent Network Mechanism of Time Integration in Perceptual Decisions. The Journal of Neuroscience, 26(4), 1314–1328. https://doi.org/10.1523/JNEUROSCI.3733-05.2006\n",
        "\n",
        "[3] Neuronal Dynamics: From single neurons to networks and models of cognition and beyond Wulfram Gerstner, Werner M. Kistler, Richard Naud and Liam Paninski\n",
        "\n"
      ],
      "metadata": {
        "id": "TyA6dgrn6hKg"
      }
    },
    {
      "cell_type": "markdown",
      "source": [
        "## 1 - Installing brian2 library\n",
        "\n",
        "Brian 2 is a python library designed to facilitate the implementation of biologically plausible neural network\n",
        "\n",
        "Documentation about Brian2 can be found [here](https://brian2.readthedocs.io/en/stable/)"
      ],
      "metadata": {
        "id": "CF-kuuDED3qR"
      }
    },
    {
      "cell_type": "code",
      "execution_count": null,
      "metadata": {
        "id": "7-kBgmATKq23",
        "cellView": "form"
      },
      "outputs": [],
      "source": [
        "#@title Run this cell to install brian2 skip this step if you are working on your own computer\n",
        "!pip install brian2"
      ]
    },
    {
      "cell_type": "markdown",
      "source": [
        "## 2 - Python dependencies\n",
        "\n",
        "We load all required Pythond dependenceis for the exercice"
      ],
      "metadata": {
        "id": "SXV7vkR8Eikl"
      }
    },
    {
      "cell_type": "code",
      "source": [
        "#@title Run this cell to install required dependencies\n",
        "import brian2 as b2\n",
        "from brian2 import NeuronGroup, Synapses, PoissonInput, PoissonGroup, network_operation\n",
        "from brian2.monitors import StateMonitor, SpikeMonitor, PopulationRateMonitor\n",
        "from random import sample\n",
        "import numpy.random as rnd\n",
        "import numpy\n",
        "import matplotlib.pyplot as plt\n",
        "from math import floor\n",
        "import time\n",
        "#b2.set_device('cpp_standalone')\n",
        "b2.prefs.codegen.target = 'cython'"
      ],
      "metadata": {
        "cellView": "form",
        "id": "e5Qd-0Nq6R76"
      },
      "execution_count": null,
      "outputs": []
    },
    {
      "cell_type": "markdown",
      "source": [
        "## 3 - Implementation of the model\n",
        "\n",
        "This step is the most important: We define a function \"sim_decision_making_network\", which implement the model as described in the description at the top of the notebook."
      ],
      "metadata": {
        "id": "5HnmpdqzE569"
      }
    },
    {
      "cell_type": "markdown",
      "source": [
        "### Question 1\n",
        "\n",
        "For each population found in the description of the model on top of the notebook, find the corresponding variables in the sim_decision_making_network function. What type of brian2 object is used to create these populations?"
      ],
      "metadata": {
        "id": "IpOEcIlsfvyt"
      }
    },
    {
      "cell_type": "markdown",
      "source": [
        "### Question 2\n",
        "\n",
        " Each NeuronGroup is monitored with brian2 objects called PopulationRateMonitor, a SpikeMonitor, and a StateMonitor. Find the variable names for those monitors. You can have a look at the [Brian2 documentation](https://brian2.readthedocs.io/en/stable/reference/brian2.monitors.html#) to understand the function of theses monitors."
      ],
      "metadata": {
        "id": "dRjK5sZ5f06o"
      }
    },
    {
      "cell_type": "markdown",
      "source": [
        "### Question 3\n",
        "\n",
        "Which process of the neurons is recorded by the StateMonitor?"
      ],
      "metadata": {
        "id": "_SHSXfySf3pF"
      }
    },
    {
      "cell_type": "code",
      "source": [
        "\"\"\"\n",
        "Implementation of a decision making model of\n",
        "[1] Wang, Xiao-Jing. \"Probabilistic decision making by slow reverberation in cortical circuits.\"\n",
        "Neuron 36.5 (2002): 955-968.\n",
        "\n",
        "Some parts of this implementation are inspired by material from\n",
        "*Stanford University, BIOE 332: Large-Scale Neural Modeling, Kwabena Boahen & Tatiana Engel, 2013*,\n",
        "online available.\n",
        "\n",
        "Note: Most parameters differ from the original publication.\n",
        "\"\"\"\n",
        "\n",
        "# This file is part of the exercise code repository accompanying\n",
        "# the book: Neuronal Dynamics (see http://neuronaldynamics.epfl.ch)\n",
        "# located at http://github.com/EPFL-LCN/neuronaldynamics-exercises.\n",
        "\n",
        "\n",
        "\n",
        "# Should you reuse and publish the code for your own purposes,\n",
        "# please cite the book or point to the webpage http://neuronaldynamics.epfl.ch.\n",
        "\n",
        "# Wulfram Gerstner, Werner M. Kistler, Richard Naud, and Liam Paninski.\n",
        "# Neuronal Dynamics: From Single Neurons to Networks and Models of Cognition.\n",
        "# Cambridge University Press, 2014.\n",
        "\n",
        "\n",
        "\n",
        "\n",
        "b2.defaultclock.dt = 0.10 * b2.ms\n",
        "\n",
        "\n",
        "def sim_decision_making_network(N_Excit=384, N_Inhib=96, weight_scaling_factor=5.33,\n",
        "                                t_stimulus_start=100 * b2.ms, t_stimulus_duration=9999 * b2.ms, coherence_level=0.,\n",
        "                                stimulus_update_interval=30 * b2.ms, mu0_mean_stimulus_Hz=160.,\n",
        "                                stimulus_std_Hz=20.,\n",
        "                                N_extern=1000, firing_rate_extern=9.8 * b2.Hz,\n",
        "                                w_pos=1.90, f_Subpop_size=0.25,  # .15 in publication [1]\n",
        "                                max_sim_time=1000. * b2.ms, stop_condition_rate=None,\n",
        "                                monitored_subset_size=512):\n",
        "    \"\"\"\n",
        "\n",
        "    Args:\n",
        "        N_Excit (int): total number of neurons in the excitatory population\n",
        "        N_Inhib (int): nr of neurons in the inhibitory populations\n",
        "        weight_scaling_factor: When increasing the number of neurons by 2, the weights should be scaled down by 1/2\n",
        "        t_stimulus_start (Quantity): time when the stimulation starts\n",
        "        t_stimulus_duration (Quantity): duration of the stimulation\n",
        "        coherence_level (int): coherence of the stimulus.\n",
        "            Difference in mean between the PoissonGroups \"left\" stimulus and \"right\" stimulus\n",
        "        stimulus_update_interval (Quantity): the mean of the stimulating PoissonGroups is\n",
        "            re-sampled at this interval\n",
        "        mu0_mean_stimulus_Hz (float): maximum mean firing rate of the stimulus if c=+1 or c=-1. Each neuron\n",
        "            in the populations \"Left\" and \"Right\" receives an independent poisson input.\n",
        "        stimulus_std_Hz (float): std deviation of the stimulating PoissonGroups.\n",
        "        N_extern (int): nr of neurons in the stimulus independent poisson background population\n",
        "        firing_rate_extern (int): firing rate of the stimulus independent poisson background population\n",
        "        w_pos (float): Scaling (strengthening) of the recurrent weights within the\n",
        "            subpopulations \"Left\" and \"Right\"\n",
        "        f_Subpop_size (float): fraction of the neurons in the subpopulations \"Left\" and \"Right\".\n",
        "            #left = #right = int(f_Subpop_size*N_Excit).\n",
        "        max_sim_time (Quantity): simulated time.\n",
        "        stop_condition_rate (Quantity): An optional stopping criteria: If not None, the simulation stops if the\n",
        "            firing rate of either subpopulation \"Left\" or \"Right\" is above stop_condition_rate.\n",
        "        monitored_subset_size (int): max nr of neurons for which a state monitor is registered.\n",
        "\n",
        "    Returns:\n",
        "\n",
        "        A dictionary with the following keys (strings):\n",
        "        \"rate_monitor_A\", \"spike_monitor_A\", \"voltage_monitor_A\", \"idx_monitored_neurons_A\", \"rate_monitor_B\",\n",
        "         \"spike_monitor_B\", \"voltage_monitor_B\", \"idx_monitored_neurons_B\", \"rate_monitor_Z\", \"spike_monitor_Z\",\n",
        "         \"voltage_monitor_Z\", \"idx_monitored_neurons_Z\", \"rate_monitor_inhib\", \"spike_monitor_inhib\",\n",
        "         \"voltage_monitor_inhib\", \"idx_monitored_neurons_inhib\"\n",
        "\n",
        "    \"\"\"\n",
        "\n",
        "    print(\"simulating {} neurons. Start: {}\".format(N_Excit + N_Inhib, time.ctime()))\n",
        "    t_stimulus_end = t_stimulus_start + t_stimulus_duration\n",
        "\n",
        "    N_Group_A = int(N_Excit * f_Subpop_size)  # size of the excitatory subpopulation sensitive to stimulus A\n",
        "    N_Group_B = N_Group_A  # size of the excitatory subpopulation sensitive to stimulus B\n",
        "    N_Group_Z = N_Excit - N_Group_A - N_Group_B  # (1-2f)Ne excitatory neurons do not respond to either stimulus.\n",
        "\n",
        "    Cm_excit = 0.5 * b2.nF  # membrane capacitance of excitatory neurons\n",
        "    G_leak_excit = 25.0 * b2.nS  # leak conductance\n",
        "    E_leak_excit = -70.0 * b2.mV  # reversal potential\n",
        "    v_spike_thr_excit = -50.0 * b2.mV  # spike condition\n",
        "    v_reset_excit = -60.0 * b2.mV  # reset voltage after spike\n",
        "    t_abs_refract_excit = 2. * b2.ms  # absolute refractory period\n",
        "\n",
        "    # specify the inhibitory interneurons:\n",
        "    # N_Inhib = 200\n",
        "    Cm_inhib = 0.2 * b2.nF\n",
        "    G_leak_inhib = 20.0 * b2.nS\n",
        "    E_leak_inhib = -70.0 * b2.mV\n",
        "    v_spike_thr_inhib = -50.0 * b2.mV\n",
        "    v_reset_inhib = -60.0 * b2.mV\n",
        "    t_abs_refract_inhib = 1.0 * b2.ms\n",
        "\n",
        "    # specify the AMPA synapses\n",
        "    E_AMPA = 0.0 * b2.mV\n",
        "    tau_AMPA = 2.5 * b2.ms\n",
        "\n",
        "    # specify the GABA synapses\n",
        "    E_GABA = -70.0 * b2.mV\n",
        "    tau_GABA = 5.0 * b2.ms\n",
        "\n",
        "    # specify the NMDA synapses\n",
        "    E_NMDA = 0.0 * b2.mV\n",
        "    tau_NMDA_s = 100.0 * b2.ms\n",
        "    tau_NMDA_x = 2. * b2.ms\n",
        "    alpha_NMDA = 0.5 * b2.kHz\n",
        "\n",
        "    # projections from the external population\n",
        "    g_AMPA_extern2inhib = 1.62 * b2.nS\n",
        "    g_AMPA_extern2excit = 2.1 * b2.nS\n",
        "\n",
        "    # projectsions from the inhibitory populations\n",
        "    g_GABA_inhib2inhib = weight_scaling_factor * 1.25 * b2.nS\n",
        "    g_GABA_inhib2excit = weight_scaling_factor * 1.60 * b2.nS\n",
        "\n",
        "    # projections from the excitatory population\n",
        "    g_AMPA_excit2excit = weight_scaling_factor * 0.012 * b2.nS\n",
        "    g_AMPA_excit2inhib = weight_scaling_factor * 0.015 * b2.nS\n",
        "    g_NMDA_excit2excit = weight_scaling_factor * 0.040 * b2.nS\n",
        "    g_NMDA_excit2inhib = weight_scaling_factor * 0.045 * b2.nS  # stronger projection to inhib.\n",
        "\n",
        "    # weights and \"adjusted\" weights.\n",
        "    w_neg = 1. - f_Subpop_size * (w_pos - 1.) / (1. - f_Subpop_size)\n",
        "    # We use the same postsyn AMPA and NMDA conductances. Adjust the weights coming from different sources:\n",
        "    w_ext2inhib = g_AMPA_extern2inhib / g_AMPA_excit2inhib\n",
        "    w_ext2excit = g_AMPA_extern2excit / g_AMPA_excit2excit\n",
        "    # other weights are 1\n",
        "    # print(\"w_neg={}, w_ext2inhib={}, w_ext2excit={}\".format(w_neg, w_ext2inhib, w_ext2excit))\n",
        "\n",
        "    # Define the inhibitory population\n",
        "    # dynamics:\n",
        "    inhib_lif_dynamics = \"\"\"\n",
        "        s_NMDA_total : 1  # the post synaptic sum of s. compare with s_NMDA_presyn\n",
        "        dv/dt = (\n",
        "        - G_leak_inhib * (v-E_leak_inhib)\n",
        "        - g_AMPA_excit2inhib * s_AMPA * (v-E_AMPA)\n",
        "        - g_GABA_inhib2inhib * s_GABA * (v-E_GABA)\n",
        "        - g_NMDA_excit2inhib * s_NMDA_total * (v-E_NMDA)/(1.0+1.0*exp(-0.062*v/volt)/3.57)\n",
        "        )/Cm_inhib : volt (unless refractory)\n",
        "        ds_AMPA/dt = -s_AMPA/tau_AMPA : 1\n",
        "        ds_GABA/dt = -s_GABA/tau_GABA : 1\n",
        "    \"\"\"\n",
        "\n",
        "    inhib_pop = NeuronGroup(\n",
        "        N_Inhib, model=inhib_lif_dynamics,\n",
        "        threshold=\"v>v_spike_thr_inhib\", reset=\"v=v_reset_inhib\", refractory=t_abs_refract_inhib,\n",
        "        method=\"rk2\")\n",
        "    # initialize with random voltages:\n",
        "    inhib_pop.v = rnd.uniform(v_spike_thr_inhib / b2.mV - 4., high=v_spike_thr_inhib / b2.mV - 1., size=N_Inhib) * b2.mV\n",
        "\n",
        "    # Specify the excitatory population:\n",
        "    # dynamics:\n",
        "    excit_lif_dynamics = \"\"\"\n",
        "        s_NMDA_total : 1  # the post synaptic sum of s. compare with s_NMDA_presyn\n",
        "        dv/dt = (\n",
        "        - G_leak_excit * (v-E_leak_excit)\n",
        "        - g_AMPA_excit2excit * s_AMPA * (v-E_AMPA)\n",
        "        - g_GABA_inhib2excit * s_GABA * (v-E_GABA)\n",
        "        - g_NMDA_excit2excit * s_NMDA_total * (v-E_NMDA)/(1.0+1.0*exp(-0.062*v/volt)/3.57)\n",
        "        )/Cm_excit : volt (unless refractory)\n",
        "        ds_AMPA/dt = -s_AMPA/tau_AMPA : 1\n",
        "        ds_GABA/dt = -s_GABA/tau_GABA : 1\n",
        "        ds_NMDA/dt = -s_NMDA/tau_NMDA_s + alpha_NMDA * x * (1-s_NMDA) : 1\n",
        "        dx/dt = -x/tau_NMDA_x : 1\n",
        "    \"\"\"\n",
        "\n",
        "    # define the three excitatory subpopulations.\n",
        "    # A: subpop receiving stimulus A\n",
        "    excit_pop_A = NeuronGroup(N_Group_A, model=excit_lif_dynamics,\n",
        "                              threshold=\"v>v_spike_thr_excit\", reset=\"v=v_reset_excit\",\n",
        "                              refractory=t_abs_refract_excit, method=\"rk2\")\n",
        "    excit_pop_A.v = rnd.uniform(E_leak_excit / b2.mV, high=E_leak_excit / b2.mV + 5., size=excit_pop_A.N) * b2.mV\n",
        "\n",
        "    # B: subpop receiving stimulus B\n",
        "    excit_pop_B = NeuronGroup(N_Group_B, model=excit_lif_dynamics, threshold=\"v>v_spike_thr_excit\",\n",
        "                              reset=\"v=v_reset_excit\", refractory=t_abs_refract_excit, method=\"rk2\")\n",
        "    excit_pop_B.v = rnd.uniform(E_leak_excit / b2.mV, high=E_leak_excit / b2.mV + 5., size=excit_pop_B.N) * b2.mV\n",
        "    # Z: non-sensitive\n",
        "    excit_pop_Z = NeuronGroup(N_Group_Z, model=excit_lif_dynamics,\n",
        "                              threshold=\"v>v_spike_thr_excit\", reset=\"v=v_reset_excit\",\n",
        "                              refractory=t_abs_refract_excit, method=\"rk2\")\n",
        "    excit_pop_Z.v = rnd.uniform(v_reset_excit / b2.mV, high=v_spike_thr_excit / b2.mV - 1., size=excit_pop_Z.N) * b2.mV\n",
        "\n",
        "    # now define the connections:\n",
        "    # projections FROM EXTERNAL POISSON GROUP: ####################################################\n",
        "    poisson2Inhib = PoissonInput(target=inhib_pop, target_var=\"s_AMPA\",\n",
        "                                 N=N_extern, rate=firing_rate_extern, weight=w_ext2inhib)\n",
        "    poisson2A = PoissonInput(target=excit_pop_A, target_var=\"s_AMPA\",\n",
        "                             N=N_extern, rate=firing_rate_extern, weight=w_ext2excit)\n",
        "\n",
        "    poisson2B = PoissonInput(target=excit_pop_B, target_var=\"s_AMPA\",\n",
        "                             N=N_extern, rate=firing_rate_extern, weight=w_ext2excit)\n",
        "    poisson2Z = PoissonInput(target=excit_pop_Z, target_var=\"s_AMPA\",\n",
        "                             N=N_extern, rate=firing_rate_extern, weight=w_ext2excit)\n",
        "\n",
        "    ###############################################################################################\n",
        "\n",
        "    # GABA projections FROM INHIBITORY population: ################################################\n",
        "    syn_inhib2inhib = Synapses(inhib_pop, target=inhib_pop, on_pre=\"s_GABA += 1.0\", delay=0.5 * b2.ms)\n",
        "    syn_inhib2inhib.connect(p=1.)\n",
        "    syn_inhib2A = Synapses(inhib_pop, target=excit_pop_A, on_pre=\"s_GABA += 1.0\", delay=0.5 * b2.ms)\n",
        "    syn_inhib2A.connect(p=1.)\n",
        "    syn_inhib2B = Synapses(inhib_pop, target=excit_pop_B, on_pre=\"s_GABA += 1.0\", delay=0.5 * b2.ms)\n",
        "    syn_inhib2B.connect(p=1.)\n",
        "    syn_inhib2Z = Synapses(inhib_pop, target=excit_pop_Z, on_pre=\"s_GABA += 1.0\", delay=0.5 * b2.ms)\n",
        "    syn_inhib2Z.connect(p=1.)\n",
        "    ###############################################################################################\n",
        "    # AMPA projections FROM EXCITATORY A: #########################################################\n",
        "    syn_AMPA_A2A = Synapses(excit_pop_A, target=excit_pop_A, on_pre=\"s_AMPA += w_pos\", delay=0.5 * b2.ms)\n",
        "    syn_AMPA_A2A.connect(p=1.)\n",
        "    syn_AMPA_A2B = Synapses(excit_pop_A, target=excit_pop_B, on_pre=\"s_AMPA += w_neg\", delay=0.5 * b2.ms)\n",
        "    syn_AMPA_A2B.connect(p=1.)\n",
        "    syn_AMPA_A2Z = Synapses(excit_pop_A, target=excit_pop_Z, on_pre=\"s_AMPA += 1.0\", delay=0.5 * b2.ms)\n",
        "    syn_AMPA_A2Z.connect(p=1.)\n",
        "    syn_AMPA_A2inhib = Synapses(excit_pop_A, target=inhib_pop, on_pre=\"s_AMPA += 1.0\", delay=0.5 * b2.ms)\n",
        "    syn_AMPA_A2inhib.connect(p=1.)\n",
        "    ###############################################################################################\n",
        "    # AMPA projections FROM EXCITATORY B: #########################################################\n",
        "    syn_AMPA_B2A = Synapses(excit_pop_B, target=excit_pop_A, on_pre=\"s_AMPA += w_neg\", delay=0.5 * b2.ms)\n",
        "    syn_AMPA_B2A.connect(p=1.)\n",
        "    syn_AMPA_B2B = Synapses(excit_pop_B, target=excit_pop_B, on_pre=\"s_AMPA += w_pos\", delay=0.5 * b2.ms)\n",
        "    syn_AMPA_B2B.connect(p=1.)\n",
        "    syn_AMPA_B2Z = Synapses(excit_pop_B, target=excit_pop_Z, on_pre=\"s_AMPA += 1.0\", delay=0.5 * b2.ms)\n",
        "    syn_AMPA_B2Z.connect(p=1.)\n",
        "    syn_AMPA_B2inhib = Synapses(excit_pop_B, target=inhib_pop, on_pre=\"s_AMPA += 1.0\", delay=0.5 * b2.ms)\n",
        "    syn_AMPA_B2inhib.connect(p=1.)\n",
        "    ###############################################################################################\n",
        "    # AMPA projections FROM EXCITATORY Z: #########################################################\n",
        "    syn_AMPA_Z2A = Synapses(excit_pop_Z, target=excit_pop_A, on_pre=\"s_AMPA += 1.0\", delay=0.5 * b2.ms)\n",
        "    syn_AMPA_Z2A.connect(p=1.)\n",
        "    syn_AMPA_Z2B = Synapses(excit_pop_Z, target=excit_pop_B, on_pre=\"s_AMPA += 1.0\", delay=0.5 * b2.ms)\n",
        "    syn_AMPA_Z2B.connect(p=1.)\n",
        "    syn_AMPA_Z2Z = Synapses(excit_pop_Z, target=excit_pop_Z, on_pre=\"s_AMPA += 1.0\", delay=0.5 * b2.ms)\n",
        "    syn_AMPA_Z2Z.connect(p=1.)\n",
        "    syn_AMPA_Z2inhib = Synapses(excit_pop_Z, target=inhib_pop, on_pre=\"s_AMPA += 1.0\", delay=0.5 * b2.ms)\n",
        "    syn_AMPA_Z2inhib.connect(p=1.)\n",
        "    ###############################################################################################\n",
        "    # NMDA projections FROM EXCITATORY to INHIB, A,B,Z\n",
        "    @network_operation()\n",
        "    def update_nmda_sum():\n",
        "        sum_sNMDA_A = sum(excit_pop_A.s_NMDA)\n",
        "        sum_sNMDA_B = sum(excit_pop_B.s_NMDA)\n",
        "        sum_sNMDA_Z = sum(excit_pop_Z.s_NMDA)\n",
        "        # note the _ at the end of s_NMDA_total_ disables unit checking\n",
        "        inhib_pop.s_NMDA_total_ = (1.0 * sum_sNMDA_A + 1.0 * sum_sNMDA_B + 1.0 * sum_sNMDA_Z)\n",
        "        excit_pop_A.s_NMDA_total_ = (w_pos * sum_sNMDA_A + w_neg * sum_sNMDA_B + w_neg * sum_sNMDA_Z)\n",
        "        excit_pop_B.s_NMDA_total_ = (w_neg * sum_sNMDA_A + w_pos * sum_sNMDA_B + w_neg * sum_sNMDA_Z)\n",
        "        excit_pop_Z.s_NMDA_total_ = (1.0 * sum_sNMDA_A + 1.0 * sum_sNMDA_B + 1.0 * sum_sNMDA_Z)\n",
        "\n",
        "    # set a self-recurrent synapse to introduce a delay when updating the intermediate\n",
        "    # gating variable x\n",
        "    syn_x_A2A = Synapses(excit_pop_A, excit_pop_A, on_pre=\"x += 1.\", delay=0.5 * b2.ms)\n",
        "    syn_x_A2A.connect(j=\"i\")\n",
        "    syn_x_B2B = Synapses(excit_pop_B, excit_pop_B, on_pre=\"x += 1.\", delay=0.5 * b2.ms)\n",
        "    syn_x_B2B.connect(j=\"i\")\n",
        "    syn_x_Z2Z = Synapses(excit_pop_Z, excit_pop_Z, on_pre=\"x += 1.\", delay=0.5 * b2.ms)\n",
        "    syn_x_Z2Z.connect(j=\"i\")\n",
        "\n",
        "    ###############################################################################################\n",
        "    # Define the stimulus: two PoissonInput with time time-dependent mean.\n",
        "    poissonStimulus2A = PoissonGroup(N_Group_A, 0. * b2.Hz)\n",
        "    syn_Stim2A = Synapses(poissonStimulus2A, excit_pop_A, on_pre=\"s_AMPA+=w_ext2excit\")\n",
        "    syn_Stim2A.connect(j=\"i\")\n",
        "    poissonStimulus2B = PoissonGroup(N_Group_B, 0. * b2.Hz)\n",
        "    syn_Stim2B = Synapses(poissonStimulus2B, excit_pop_B, on_pre=\"s_AMPA+=w_ext2excit\")\n",
        "    syn_Stim2B.connect(j=\"i\")\n",
        "\n",
        "    @network_operation(dt=stimulus_update_interval)\n",
        "    def update_poisson_stimulus(t):\n",
        "        if t >= t_stimulus_start and t < t_stimulus_end:\n",
        "            offset_A = mu0_mean_stimulus_Hz * (0.5 + 0.5 * coherence_level)\n",
        "            offset_B = mu0_mean_stimulus_Hz * (0.5 - 0.5 * coherence_level)\n",
        "\n",
        "            rate_A = numpy.random.normal(offset_A, stimulus_std_Hz)\n",
        "            rate_A = (max(0, rate_A)) * b2.Hz  # avoid negative rate\n",
        "            rate_B = numpy.random.normal(offset_B, stimulus_std_Hz)\n",
        "            rate_B = (max(0, rate_B)) * b2.Hz\n",
        "\n",
        "            poissonStimulus2A.rates = rate_A\n",
        "            poissonStimulus2B.rates = rate_B\n",
        "            # print(\"stim on. rate_A= {}, rate_B = {}\".format(rate_A, rate_B))\n",
        "        else:\n",
        "            # print(\"stim off\")\n",
        "            poissonStimulus2A.rates = 0.\n",
        "            poissonStimulus2B.rates = 0.\n",
        "\n",
        "    ###############################################################################################\n",
        "\n",
        "    def get_monitors(pop, monitored_subset_size):\n",
        "        \"\"\"\n",
        "        Internal helper.\n",
        "        Args:\n",
        "            pop:\n",
        "            monitored_subset_size:\n",
        "\n",
        "        Returns:\n",
        "\n",
        "        \"\"\"\n",
        "        monitored_subset_size = min(monitored_subset_size, pop.N)\n",
        "        idx_monitored_neurons = sample(range(pop.N), monitored_subset_size)\n",
        "        rate_monitor = PopulationRateMonitor(pop)\n",
        "        # record parameter: record=idx_monitored_neurons is not supported???\n",
        "        spike_monitor = SpikeMonitor(pop, record=idx_monitored_neurons)\n",
        "        voltage_monitor = StateMonitor(pop, \"v\", record=idx_monitored_neurons)\n",
        "        return rate_monitor, spike_monitor, voltage_monitor, idx_monitored_neurons\n",
        "\n",
        "    # collect data of a subset of neurons:\n",
        "    rate_monitor_inhib, spike_monitor_inhib, voltage_monitor_inhib, idx_monitored_neurons_inhib = \\\n",
        "        get_monitors(inhib_pop, monitored_subset_size)\n",
        "\n",
        "    rate_monitor_A, spike_monitor_A, voltage_monitor_A, idx_monitored_neurons_A = \\\n",
        "        get_monitors(excit_pop_A, monitored_subset_size)\n",
        "\n",
        "    rate_monitor_B, spike_monitor_B, voltage_monitor_B, idx_monitored_neurons_B = \\\n",
        "        get_monitors(excit_pop_B, monitored_subset_size)\n",
        "\n",
        "    rate_monitor_Z, spike_monitor_Z, voltage_monitor_Z, idx_monitored_neurons_Z = \\\n",
        "        get_monitors(excit_pop_Z, monitored_subset_size)\n",
        "\n",
        "    if stop_condition_rate is None:\n",
        "        b2.run(max_sim_time)\n",
        "    else:\n",
        "        sim_sum = 0. * b2.ms\n",
        "        sim_batch = 100. * b2.ms\n",
        "        samples_in_batch = int(floor(sim_batch / b2.defaultclock.dt))\n",
        "        avg_rate_in_batch = 0\n",
        "        while (sim_sum < max_sim_time) and (avg_rate_in_batch < stop_condition_rate):\n",
        "            b2.run(sim_batch)\n",
        "            avg_A = numpy.mean(rate_monitor_A.rate[-samples_in_batch:])\n",
        "            avg_B = numpy.mean(rate_monitor_B.rate[-samples_in_batch:])\n",
        "            avg_rate_in_batch = max(avg_A, avg_B)\n",
        "            sim_sum += sim_batch\n",
        "\n",
        "    print(\"sim end: {}\".format(time.ctime()))\n",
        "    ret_vals = dict()\n",
        "\n",
        "    ret_vals[\"rate_monitor_A\"] = rate_monitor_A\n",
        "    ret_vals[\"spike_monitor_A\"] = spike_monitor_A\n",
        "    ret_vals[\"voltage_monitor_A\"] = voltage_monitor_A\n",
        "    ret_vals[\"idx_monitored_neurons_A\"] = idx_monitored_neurons_A\n",
        "\n",
        "    ret_vals[\"rate_monitor_B\"] = rate_monitor_B\n",
        "    ret_vals[\"spike_monitor_B\"] = spike_monitor_B\n",
        "    ret_vals[\"voltage_monitor_B\"] = voltage_monitor_B\n",
        "    ret_vals[\"idx_monitored_neurons_B\"] = idx_monitored_neurons_B\n",
        "\n",
        "    ret_vals[\"rate_monitor_Z\"] = rate_monitor_Z\n",
        "    ret_vals[\"spike_monitor_Z\"] = spike_monitor_Z\n",
        "    ret_vals[\"voltage_monitor_Z\"] = voltage_monitor_Z\n",
        "    ret_vals[\"idx_monitored_neurons_Z\"] = idx_monitored_neurons_Z\n",
        "\n",
        "    ret_vals[\"rate_monitor_inhib\"] = rate_monitor_inhib\n",
        "    ret_vals[\"spike_monitor_inhib\"] = spike_monitor_inhib\n",
        "    ret_vals[\"voltage_monitor_inhib\"] = voltage_monitor_inhib\n",
        "    ret_vals[\"idx_monitored_neurons_inhib\"] = idx_monitored_neurons_inhib\n",
        "\n",
        "    return ret_vals\n",
        "\n",
        "\n"
      ],
      "metadata": {
        "id": "xNsqJ8Eoa97n"
      },
      "execution_count": null,
      "outputs": []
    },
    {
      "cell_type": "markdown",
      "source": [
        "## 4 - Plotting the outcome of the model\n",
        "\n",
        "Here we create a function to generate a visualization of the model behaviour after simulation. You should execute this cell before moving on to the exercice"
      ],
      "metadata": {
        "id": "P241i3oWc7HV"
      }
    },
    {
      "cell_type": "code",
      "source": [
        "def plot_network_activity(rate_monitor, spike_monitor, voltage_monitor=None, spike_train_idx_list=None,\n",
        "                          t_min=None, t_max=None, N_highlighted_spiketrains=3, avg_window_width=1.0 * b2.ms,\n",
        "                          sup_title=None, figure_size=(10, 4)):\n",
        "    \"\"\"\n",
        "    Visualizes the results of a network simulation: spike-train, population activity and voltage-traces.\n",
        "\n",
        "    Args:\n",
        "        rate_monitor (PopulationRateMonitor): rate of the population\n",
        "        spike_monitor (SpikeMonitor): spike trains of individual neurons\n",
        "        voltage_monitor (StateMonitor): optional. voltage traces of some (same as in spike_train_idx_list) neurons\n",
        "        spike_train_idx_list (list): optional. A list of neuron indices whose spike-train is plotted.\n",
        "            If no list is provided, all (up to 500) spike-trains in the spike_monitor are plotted. If None, the\n",
        "            the list in voltage_monitor.record is used.\n",
        "        t_min (Quantity): optional. lower bound of the plotted time interval.\n",
        "            if t_min is None, it is set to the larger of [0ms, (t_max - 100ms)]\n",
        "        t_max (Quantity): optional. upper bound of the plotted time interval.\n",
        "            if t_max is None, it is set to the timestamp of the last spike in\n",
        "        N_highlighted_spiketrains (int): optional. Number of spike trains visually highlighted, defaults to 3\n",
        "            If N_highlighted_spiketrains==0 and voltage_monitor is not None, then all voltage traces of\n",
        "            the voltage_monitor are plotted. Otherwise N_highlighted_spiketrains voltage traces are plotted.\n",
        "        avg_window_width (Quantity): optional. Before plotting the population rate (PopulationRateMonitor), the rate\n",
        "            is smoothed using a window of width = avg_window_width. Defaults is 1.0ms\n",
        "        sup_title (String): figure suptitle. Default is None.\n",
        "        figure_size (tuple): (width,height) tuple passed to pyplot's figsize parameter.\n",
        "\n",
        "    Returns:\n",
        "        Figure: The whole figure\n",
        "        Axes: Top panel, Raster plot\n",
        "        Axes: Middle panel, population activity\n",
        "        Axes: Bottom panel, voltage traces. None if no voltage monitor is provided.\n",
        "    \"\"\"\n",
        "\n",
        "    assert isinstance(rate_monitor, b2.PopulationRateMonitor), \\\n",
        "        \"rate_monitor  is not of type PopulationRateMonitor\"\n",
        "    assert isinstance(spike_monitor, b2.SpikeMonitor), \\\n",
        "        \"spike_monitor is not of type SpikeMonitor\"\n",
        "    assert (voltage_monitor is None) or (isinstance(voltage_monitor, b2.StateMonitor)), \\\n",
        "        \"voltage_monitor is not of type StateMonitor\"\n",
        "    assert (spike_train_idx_list is None) or (isinstance(spike_train_idx_list, list)), \\\n",
        "        \"spike_train_idx_list is not of type list\"\n",
        "\n",
        "    all_spike_trains = spike_monitor.spike_trains()\n",
        "    if spike_train_idx_list is None:\n",
        "        if voltage_monitor is not None:\n",
        "            # if no index list is provided use the one from the voltage monitor\n",
        "            spike_train_idx_list = numpy.sort(voltage_monitor.record)\n",
        "        else:\n",
        "            # no index list AND no voltage monitor: plot all spike trains\n",
        "            spike_train_idx_list = numpy.sort(all_spike_trains.keys())\n",
        "        if len(spike_train_idx_list) > 5000:\n",
        "            # avoid slow plotting of a large set\n",
        "            print(\"Warning: raster plot with more than 5000 neurons truncated!\")\n",
        "            spike_train_idx_list = spike_train_idx_list[:5000]\n",
        "\n",
        "    # get a reasonable default interval\n",
        "    if t_max is None:\n",
        "        t_max = max(rate_monitor.t / b2.ms)\n",
        "    else:\n",
        "        t_max = t_max / b2.ms\n",
        "    if t_min is None:\n",
        "        t_min = max(0., t_max - 100.)  # if none, plot at most the last 100ms\n",
        "    else:\n",
        "        t_min = t_min / b2.ms\n",
        "\n",
        "    fig = None\n",
        "    ax_raster = None\n",
        "    ax_rate = None\n",
        "    ax_voltage = None\n",
        "    if voltage_monitor is None:\n",
        "        fig, (ax_raster, ax_rate) = plt.subplots(2, 1, sharex=True, figsize=figure_size)\n",
        "    else:\n",
        "        fig, (ax_raster, ax_rate, ax_voltage) = plt.subplots(3, 1, sharex=True, figsize=figure_size)\n",
        "\n",
        "    # nested helpers to plot the parts, note that they use parameters defined outside.\n",
        "    def get_spike_train_ts_indices(spike_train):\n",
        "        \"\"\"\n",
        "        Helper. Extracts the spikes within the time window from the spike train\n",
        "        \"\"\"\n",
        "        ts = spike_train/b2.ms\n",
        "        # spike_within_time_window = (ts >= t_min) & (ts <= t_max)\n",
        "        # idx_spikes = numpy.where(spike_within_time_window)\n",
        "        idx_spikes = (ts >= t_min) & (ts <= t_max)\n",
        "        ts_spikes = ts[idx_spikes]\n",
        "        return idx_spikes, ts_spikes\n",
        "\n",
        "    def plot_raster():\n",
        "        \"\"\"\n",
        "        Helper. Plots the spike trains of the spikes in spike_train_idx_list\n",
        "        \"\"\"\n",
        "        neuron_counter = 0\n",
        "        for neuron_index in spike_train_idx_list:\n",
        "            idx_spikes, ts_spikes = get_spike_train_ts_indices(all_spike_trains[neuron_index])\n",
        "            ax_raster.scatter(ts_spikes, neuron_counter * numpy.ones(ts_spikes.shape),\n",
        "                              marker=\".\", c=\"k\", s=15, lw=0)\n",
        "            neuron_counter += 1\n",
        "        ax_raster.set_ylim([0, neuron_counter])\n",
        "\n",
        "    def highlight_raster(neuron_idxs):\n",
        "        \"\"\"\n",
        "        Helper. Highlights three spike trains\n",
        "        \"\"\"\n",
        "        for i in range(len(neuron_idxs)):\n",
        "            color = \"r\" if i == 0 else \"k\"\n",
        "            raster_plot_index = neuron_idxs[i]\n",
        "            population_index = spike_train_idx_list[raster_plot_index]\n",
        "            idx_spikes, ts_spikes = get_spike_train_ts_indices(all_spike_trains[population_index])\n",
        "            ax_raster.axhline(y=raster_plot_index, linewidth=.5, linestyle=\"-\", color=[.9, .9, .9])\n",
        "            ax_raster.scatter(\n",
        "                ts_spikes, raster_plot_index * numpy.ones(ts_spikes.shape),\n",
        "                marker=\".\", c=color, s=144, lw=0)\n",
        "        ax_raster.set_ylabel(\"neuron #\")\n",
        "        ax_raster.set_title(\"Raster Plot\", fontsize=10)\n",
        "\n",
        "    #def plot_population_activity(window_width=0.5*b2.ms):\n",
        "    def plot_population_activity(window_width=100*b2.ms):\n",
        "        \"\"\"\n",
        "        Helper. Plots the population rate and a mean\n",
        "        \"\"\"\n",
        "        ts = rate_monitor.t / b2.ms\n",
        "        idx_rate = (ts >= t_min) & (ts <= t_max)\n",
        "        # ax_rate.plot(ts[idx_rate],rate_monitor.rate[idx_rate]/b2.Hz, \".k\", markersize=2)\n",
        "        smoothed_rates = rate_monitor.smooth_rate(window=\"flat\", width=window_width)/b2.Hz\n",
        "        ax_rate.plot(ts[idx_rate], smoothed_rates[idx_rate])\n",
        "        ax_rate.set_ylabel(\"Firing Rate (Hz)\")\n",
        "        ax_rate.set_title(\"Population Activity\", fontsize=10)\n",
        "\n",
        "    def plot_voltage_traces(voltage_traces_i):\n",
        "        \"\"\"\n",
        "        Helper. Plots three voltage traces\n",
        "        \"\"\"\n",
        "        ts = voltage_monitor.t/b2.ms\n",
        "        idx_voltage = (ts >= t_min) & (ts <= t_max)\n",
        "        for i in range(len(voltage_traces_i)):\n",
        "            color = \"r\" if i == 0 else \".7\"\n",
        "            raster_plot_index = voltage_traces_i[i]\n",
        "            population_index = spike_train_idx_list[raster_plot_index]\n",
        "            ax_voltage.plot(\n",
        "                ts[idx_voltage], voltage_monitor[population_index].v[idx_voltage]/b2.mV,\n",
        "                c=color, lw=1.)\n",
        "            ax_voltage.set_ylabel(\"Memb. Pot. (mV)\")\n",
        "            ax_voltage.set_title(\"Voltage Traces\", fontsize=10)\n",
        "\n",
        "    plot_raster()\n",
        "    plot_population_activity(avg_window_width)\n",
        "    nr_neurons = len(spike_train_idx_list)\n",
        "    highlighted_neurons_i = []  # default to an empty list.\n",
        "    if N_highlighted_spiketrains > 0:\n",
        "        fract = numpy.linspace(0, 1, N_highlighted_spiketrains + 2)[1:-1]\n",
        "        highlighted_neurons_i = [int(nr_neurons * v) for v in fract]\n",
        "        highlight_raster(highlighted_neurons_i)\n",
        "\n",
        "    if voltage_monitor is not None:\n",
        "        if N_highlighted_spiketrains == 0:\n",
        "            traces_i = range(nr_neurons)\n",
        "        else:\n",
        "            traces_i = highlighted_neurons_i\n",
        "        plot_voltage_traces(traces_i)\n",
        "\n",
        "    plt.xlabel(\"t [ms]\")\n",
        "\n",
        "    if sup_title is not None:\n",
        "        plt.suptitle(sup_title)\n",
        "\n",
        "    return fig, ax_raster, ax_rate, ax_voltage"
      ],
      "metadata": {
        "id": "QUyMf2FeD0M1"
      },
      "execution_count": null,
      "outputs": []
    },
    {
      "cell_type": "markdown",
      "source": [
        "### Question 1\n",
        "\n",
        "Run the simulation for 800 ms and use the plot_network_activity function to visualize the activity of left and right motion sensitive neurons"
      ],
      "metadata": {
        "id": "_pJaz3irdjHD"
      }
    },
    {
      "cell_type": "code",
      "source": [
        "#@title Exercice (write and test your own code in this cell)\n",
        "\n"
      ],
      "metadata": {
        "id": "m2oSteoIMFY4"
      },
      "execution_count": null,
      "outputs": []
    },
    {
      "cell_type": "code",
      "source": [
        "#@title Solution (you can see the solution to the exercice here)\n",
        "\n",
        "results = sim_decision_making_network(N_Excit = int(384), N_Inhib= int(96),t_stimulus_start= 50. * b2.ms,\n",
        "                                                      coherence_level=0.6, max_sim_time=800. * b2.ms)\n",
        "\n",
        "plot_network_activity(results[\"rate_monitor_A\"], results[\"spike_monitor_A\"],\n",
        "                                 results[\"voltage_monitor_A\"], t_min=0. * b2.ms, avg_window_width=5. * b2.ms,\n",
        "                                 sup_title=\"Left\")\n",
        "plt.tight_layout()\n",
        "plt.show()\n",
        "plot_network_activity(results[\"rate_monitor_B\"], results[\"spike_monitor_B\"],\n",
        "                                 results[\"voltage_monitor_B\"], t_min=0. * b2.ms, avg_window_width=5. * b2.ms,\n",
        "                                 sup_title=\"Right\")\n",
        "plt.tight_layout()\n",
        "plt.show()"
      ],
      "metadata": {
        "cellView": "form",
        "id": "5f_yfc0BeaCm"
      },
      "execution_count": null,
      "outputs": []
    },
    {
      "cell_type": "markdown",
      "source": [
        "### Question 2\n",
        "\n",
        "Without running the simulation again, re-plot the results of the previous simulation while manipulating the lenght of the avg_window_width argument. What is the effect of having very short and a very long averaging window?\n",
        "\n",
        "What do you think is an optimal avg_window_width value to make sense of the model outcome?"
      ],
      "metadata": {
        "id": "I28g23Lmd6ey"
      }
    },
    {
      "cell_type": "code",
      "source": [
        "#@title Exercice (write and test your own code in this cell)\n",
        "\n"
      ],
      "metadata": {
        "id": "q293DztHiD4M"
      },
      "execution_count": null,
      "outputs": []
    },
    {
      "cell_type": "code",
      "source": [
        "#@title Solution (you can see the solution to the exercice here)\n",
        "\n",
        "plot_network_activity(results[\"rate_monitor_A\"], results[\"spike_monitor_A\"],\n",
        "                                 results[\"voltage_monitor_A\"], t_min=0. * b2.ms, avg_window_width=50. * b2.ms,\n",
        "                                 sup_title=\"Left\")\n",
        "plt.tight_layout()\n",
        "plt.show()\n",
        "plot_network_activity(results[\"rate_monitor_B\"], results[\"spike_monitor_B\"],\n",
        "                                 results[\"voltage_monitor_B\"], t_min=0. * b2.ms, avg_window_width=50. * b2.ms,\n",
        "                                 sup_title=\"Right\")\n",
        "plt.tight_layout()\n",
        "plt.show()"
      ],
      "metadata": {
        "cellView": "form",
        "id": "krbGj8ukerJ0"
      },
      "execution_count": null,
      "outputs": []
    },
    {
      "cell_type": "markdown",
      "source": [
        "## 5 - Manipulating the model's inputs\n",
        "\n",
        "Now that we understand the structure and the model and its outputs, let's try to manipulate its inputs and understand the impact of our manipulations on the outcome"
      ],
      "metadata": {
        "id": "fQlpOzDpyBvk"
      }
    },
    {
      "cell_type": "markdown",
      "source": [
        "### Question 1\n",
        "\n",
        "From the sim_decision_making_network function, can you identify which brian2 objects correspond to the stimuli?"
      ],
      "metadata": {
        "id": "hpoOhhOVy18s"
      }
    },
    {
      "cell_type": "markdown",
      "source": [
        "### Question 2\n",
        "\n",
        "Run the model with differents values of coherence, for instance c = 0.6 and c = 0.4 and plot the results. What do you observe?"
      ],
      "metadata": {
        "id": "oLHmAh0s4yfQ"
      }
    },
    {
      "cell_type": "code",
      "source": [
        "#@title Exercice (write and test your own code in this cell)\n",
        "\n"
      ],
      "metadata": {
        "id": "rFAMKvAaSxy3"
      },
      "execution_count": null,
      "outputs": []
    },
    {
      "cell_type": "code",
      "source": [
        "#@title Solution (you can see the solution to the exercice here)\n",
        "c = [-0.6, 0.4]\n",
        "for coh in c:\n",
        "  results = sim_decision_making_network(N_Excit = int(384), N_Inhib= int(96),t_stimulus_start= 50. * b2.ms,\n",
        "                                                  coherence_level=coh, max_sim_time=800. * b2.ms)#, weight_scaling_factor = 10.66)\n",
        "\n",
        "  plot_network_activity(results[\"rate_monitor_A\"], results[\"spike_monitor_A\"],\n",
        "                                results[\"voltage_monitor_A\"], t_min=0. * b2.ms, avg_window_width=40. * b2.ms,\n",
        "                                sup_title=\"Left\")\n",
        "  plt.tight_layout()\n",
        "  plt.show()\n",
        "  plot_network_activity(results[\"rate_monitor_B\"], results[\"spike_monitor_B\"],\n",
        "                                results[\"voltage_monitor_B\"], t_min=0. * b2.ms, avg_window_width=40. * b2.ms,\n",
        "                                sup_title=\"Right\")\n",
        "  plt.tight_layout()\n",
        "  plt.show()"
      ],
      "metadata": {
        "cellView": "form",
        "id": "lTiNBreqyI1r"
      },
      "execution_count": null,
      "outputs": []
    },
    {
      "cell_type": "markdown",
      "source": [
        "### Question 3\n",
        "\n",
        "Run a few simulations with c=-0.1 and plot the network activity.\n",
        "\n",
        "Does the network always correctly reflects the input's coherence ?"
      ],
      "metadata": {
        "id": "mD_3Sges2KnS"
      }
    },
    {
      "cell_type": "code",
      "source": [
        "#@title Exercice (write and test your own code in this cell)\n"
      ],
      "metadata": {
        "id": "NEdWZXad2cFF"
      },
      "execution_count": null,
      "outputs": []
    },
    {
      "cell_type": "code",
      "source": [
        "#@title Solution (you can see the solution to the exercice here)\n",
        "\n",
        "n_runs = 3 # number of simulations to run\n",
        "coherence = [-0.1,0.4] # different coherence values to try\n",
        "for coh in coherence:\n",
        "  print(\"Running \"+str(n_runs)+\" simulations with coherence \"+str(coh))\n",
        "  for run in range(0, n_runs):\n",
        "      results = sim_decision_making_network(N_Excit = int(384), N_Inhib= int(96),t_stimulus_start= 50. * b2.ms,\n",
        "                                                      coherence_level=coh, max_sim_time=800. * b2.ms)\n",
        "\n",
        "      plot_network_activity(results[\"rate_monitor_A\"], results[\"spike_monitor_A\"],\n",
        "                                    results[\"voltage_monitor_A\"], t_min=0. * b2.ms, avg_window_width=50. * b2.ms,\n",
        "                                    sup_title=\"Left-sensitive pop. activity, coherence =  \"+str(coh)+\" Run N°\"+str(run))\n",
        "      plt.tight_layout()\n",
        "      plt.show()\n",
        "      plot_network_activity(results[\"rate_monitor_B\"], results[\"spike_monitor_B\"],\n",
        "                                    results[\"voltage_monitor_B\"], t_min=0. * b2.ms, avg_window_width=50. * b2.ms,\n",
        "                                    sup_title=\"Right-sensitive pop. activity, coherence =  \"+str(coh)+\" Run N°\"+str(run))\n",
        "      plt.tight_layout()\n",
        "      plt.show()"
      ],
      "metadata": {
        "cellView": "form",
        "id": "vE-3ySE12c3O"
      },
      "execution_count": null,
      "outputs": []
    },
    {
      "cell_type": "markdown",
      "source": [
        "## 6 - Decision criterion and reaction times\n",
        "\n",
        "So far our model qualitatively indicates if one of its two attractors \"wins\" the race. However, it does not gives us a discrete outcome (right or left) or a reaction time."
      ],
      "metadata": {
        "id": "0ZZTX6O8IPoL"
      }
    },
    {
      "cell_type": "markdown",
      "source": [
        "### Question 1\n",
        "\n",
        "Using your insights from the previous questions, implement a function \"get_decision_time\" that takes two RateMonitors , a avg_window_width and a rate_threshold.\n",
        "The function should return a tuple (decision_time_left, decision_time_right).\n",
        "\n",
        "*  if the decision was right it should return (0ms, 546ms), indicating that the right accumulator crossed the threshold after 546ms.\n",
        "*   if the decision was left it should return (443ms, 0ms), indicating that the left accumulator crossed the threshold after 443ms.\n",
        "*   Finally if no decision is reached it should return (0ms,0ms)\n",
        "*   A results such as (443ms, 546ms) is an error, as the system cannot select right or left for a single trial\n",
        "\n",
        "\n"
      ],
      "metadata": {
        "id": "mnKpu9yVIzBZ"
      }
    },
    {
      "cell_type": "code",
      "source": [
        "#@title Exercice (write and test your own code in this cell)\n",
        "\n",
        "## Hint: The following lines of code could be of use\n",
        "#smoothed_rates_A = rate_monitor_A.smooth_rate(window=\"flat\", width=avg_window_width) / b2.Hz\n",
        "#idx_A = numpy.argmax(smoothed_rates_A > rate_threshold/b2.Hz)\n",
        "#t_A = idx_A * b2.defaultclock.dt"
      ],
      "metadata": {
        "id": "oipwcbekCI25"
      },
      "execution_count": null,
      "outputs": []
    },
    {
      "cell_type": "code",
      "source": [
        "#@title Solution (you can see the solution to the exercice here)\n",
        "\n",
        "def get_decision_time(rate_monitorA, rate_monitorB, avg_window_width = 50, rate_threshold = 35):\n",
        "  smoothed_rates_A = rate_monitorA.smooth_rate(window=\"flat\", width=avg_window_width) / b2.Hz # We take the population A firing rate and smooth it to decrease the noise\n",
        "  smoothed_rates_B = rate_monitorB.smooth_rate(window=\"flat\", width=avg_window_width) / b2.Hz # We take the population B firing rate and smooth it to decrease the noise\n",
        "  idx_A = numpy.argmax(smoothed_rates_A > rate_threshold/b2.Hz) # We check if any firing rate values of population A is superior to our threshold\n",
        "  idx_B = numpy.argmax(smoothed_rates_B > rate_threshold/b2.Hz) # We check if any firing rate values of population B is superior to our threshold\n",
        "  t_A = idx_A * b2.defaultclock.dt # Then we find the timing corresponding to the threshold crossing\n",
        "  t_B = idx_B * b2.defaultclock.dt # Then we find the timing corresponding to the threshold crossing\n",
        "\n",
        "  return {\"Left\":t_A,\"Right\":t_B} #We return a dictionary indicating for each option possible the reaction time\n",
        "\n",
        "coh = 0.7\n",
        "\n",
        "# we run a new simulation with coherence \"coh\"\n",
        "results = sim_decision_making_network(N_Excit = int(384), N_Inhib= int(96),t_stimulus_start= 50. * b2.ms,\n",
        "                                                      coherence_level=coh, max_sim_time=800. * b2.ms)\n",
        "\n",
        "# Plot the population activity\n",
        "plot_network_activity(results[\"rate_monitor_A\"], results[\"spike_monitor_A\"],\n",
        "                                    results[\"voltage_monitor_A\"], t_min=0. * b2.ms, avg_window_width=50. * b2.ms,\n",
        "                                    sup_title=\"Left-sensitive pop. activity, coherence =  \"+str(coh))\n",
        "plt.tight_layout()\n",
        "plt.show()\n",
        "plot_network_activity(results[\"rate_monitor_B\"], results[\"spike_monitor_B\"],\n",
        "                              results[\"voltage_monitor_B\"], t_min=0. * b2.ms, avg_window_width=50. * b2.ms,\n",
        "                              sup_title=\"Right-sensitive pop. activity, coherence =  \"+str(coh))\n",
        "plt.tight_layout()\n",
        "plt.show()\n",
        "\n",
        "# And use our function with a firing rate threhold of 25 to generate a response and a reaction time\n",
        "threshold = 25\n",
        "reaction_times = get_decision_time(results[\"rate_monitor_A\"], results[\"rate_monitor_B\"], avg_window_width=50* b2.ms, rate_threshold = threshold* b2.Hz)\n",
        "print(\"Reaction times:\", reaction_times)\n"
      ],
      "metadata": {
        "cellView": "form",
        "id": "v_dozh6kKBt7"
      },
      "execution_count": null,
      "outputs": []
    },
    {
      "cell_type": "markdown",
      "source": [
        "### Question 2\n",
        "\n",
        "Without re-running the simulation, replot the model results and add to the graph a visualization of the thresholds and the reaction time"
      ],
      "metadata": {
        "id": "qIJ1sBpgNGXi"
      }
    },
    {
      "cell_type": "code",
      "source": [
        "#@title Exercice (write and test your own code in this cell)\n",
        "\n"
      ],
      "metadata": {
        "id": "VZ2JnWi_MBSF"
      },
      "execution_count": null,
      "outputs": []
    },
    {
      "cell_type": "code",
      "source": [
        "#@title Solution (you can see the solution to the exercice here)\n",
        "threshold = 25\n",
        "reaction_times = get_decision_time(results[\"rate_monitor_A\"], results[\"rate_monitor_B\"], avg_window_width=50* b2.ms, rate_threshold = threshold* b2.Hz)\n",
        "print(\"Reaction times:\", reaction_times)\n",
        "\n",
        "fig, ax_raster, ax_rate, ax_voltage= plot_network_activity(results[\"rate_monitor_A\"], results[\"spike_monitor_A\"],\n",
        "                                    results[\"voltage_monitor_A\"], t_min=0. * b2.ms, avg_window_width=50. * b2.ms,\n",
        "                                    sup_title=\"Left-sensitive pop. activity, coherence =  \"+str(coh))\n",
        "\n",
        "ax_rate.axhline(threshold, color = 'k', linestyle = '--', label = 'Decision Threshold')\n",
        "if reaction_times['Left'] !=0:\n",
        "  ax_rate.axvline(reaction_times['Left']/b2.second*1000, color = 'r', linestyle = '-', label = 'Reaction Time')\n",
        "ax_rate.legend()\n",
        "plt.tight_layout()\n",
        "plt.show()\n",
        "\n",
        "fig, ax_raster, ax_rate, ax_voltage = plot_network_activity(results[\"rate_monitor_B\"], results[\"spike_monitor_B\"],\n",
        "                              results[\"voltage_monitor_B\"], t_min=0. * b2.ms, avg_window_width=50. * b2.ms,\n",
        "                              sup_title=\"Right-sensitive pop. activity, coherence =  \"+str(coh))\n",
        "ax_rate.axhline(threshold, color = 'k', linestyle = '--', label = 'Decision Threshold')\n",
        "if reaction_times['Right'] !=0:\n",
        "  ax_rate.axvline(reaction_times['Right']/b2.second*1000, color = 'r', linestyle = '-', label = 'Reaction Time')\n",
        "ax_rate.legend()\n",
        "plt.tight_layout()\n",
        "plt.show()\n",
        "\n",
        "reaction_times = get_decision_time(results[\"rate_monitor_A\"], results[\"rate_monitor_B\"], avg_window_width=50* b2.ms, rate_threshold = 35* b2.Hz)\n",
        "print(\"Reaction times:\", reaction_times)\n"
      ],
      "metadata": {
        "cellView": "form",
        "id": "5Csd7fPOM6zu"
      },
      "execution_count": null,
      "outputs": []
    },
    {
      "cell_type": "markdown",
      "source": [
        "### Question 3\n",
        "\n",
        "For a given coherence value run the simulation multiple times (50 or 100 times) and build a distribution of reaction times\n",
        "\n",
        "**Warning, running the simulation repeatedly may take a considerable amount of time**"
      ],
      "metadata": {
        "id": "ZTOoMgA0Q6zn"
      }
    },
    {
      "cell_type": "code",
      "source": [
        "#@title Exercice (write and test your own code in this cell)\n",
        "\n"
      ],
      "metadata": {
        "id": "l4RP6e3BN4LF"
      },
      "execution_count": null,
      "outputs": []
    },
    {
      "cell_type": "code",
      "source": [
        "#@title Solution (you can see the solution to the exercice here)\n",
        "coherence = 0.7\n",
        "threshold = 25\n",
        "N_run = 50\n",
        "\n",
        "RT_left = []\n",
        "RT_right = []\n",
        "for run in range(0, N_run):\n",
        "  # we run a new simulation with coherence \"coh\"\n",
        "  results = sim_decision_making_network(N_Excit = int(384), N_Inhib= int(96),t_stimulus_start= 50. * b2.ms,\n",
        "                                                        coherence_level=coh, max_sim_time=800. * b2.ms)\n",
        "  reaction_times = get_decision_time(results[\"rate_monitor_A\"], results[\"rate_monitor_B\"], avg_window_width=50* b2.ms, rate_threshold = threshold* b2.Hz)\n",
        "  RT_left.append(reaction_times['Left'])\n",
        "  RT_right.append(reaction_times['Right'])\n",
        "\n",
        "fig, ax = plt.subplots(1,1)\n",
        "ax.hist(RT_left, bins = 10, histtype = 'stepfilled', color = 'b', label = 'Left')\n",
        "ax.hist(RT_right, bins = 10, histtype = 'stepfilled', color = 'b', label = 'Right')\n",
        "\n",
        "ax.set_xlabel('Reaction Time (s)')\n",
        "ax.set_ylabel('Count')\n",
        "ax.set_title('Distribution of left and right reaction time, coherence = '+str(coherence))\n",
        "ax.legend()\n",
        "plt.tight_layout()\n",
        "plt.show()"
      ],
      "metadata": {
        "id": "GSZLlgekRcBF"
      },
      "execution_count": null,
      "outputs": []
    }
  ]
}